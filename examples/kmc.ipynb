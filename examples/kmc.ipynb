{
 "cells": [
  {
   "cell_type": "code",
   "execution_count": null,
   "metadata": {},
   "outputs": [],
   "source": [
    "import numpy as np\n",
    "import matplotlib.pyplot as plt\n",
    "from mpl_toolkits.mplot3d import axes3d, Axes3D\n",
    "\n",
    "import sys\n",
    "sys.path.append(\"../\")\n",
    "\n",
    "from kramersmoyal.kmc import kmc_kernel_estimator\n",
    "from kramersmoyal.kernels import epanechnikov, gaussian"
   ]
  },
  {
   "cell_type": "markdown",
   "metadata": {},
   "source": [
    "## KMC"
   ]
  },
  {
   "cell_type": "markdown",
   "metadata": {},
   "source": [
    "### 1d"
   ]
  },
  {
   "cell_type": "code",
   "execution_count": null,
   "metadata": {},
   "outputs": [],
   "source": [
    "timeseries = np.random.normal(loc=0.0, scale=1,size=[10_000_00,1])\n",
    "# timeseries = np.random.rand(10_000_000, 1)\n",
    "\n",
    "bins = np.array([200])\n",
    "\n",
    "powers = np.array([[0]])\n",
    "# powers = np.array([[0,1,0,1,2,0,2,4,0,4,6,0,6,8,0]])\n",
    "\n",
    "kmc, edges = kmc_kernel_estimator(\n",
    "    timeseries, kernel=epanechnikov, bw=0.01, bins=bins, powers=powers)"
   ]
  },
  {
   "cell_type": "code",
   "execution_count": null,
   "metadata": {},
   "outputs": [],
   "source": [
    "%matplotlib inline\n",
    "\n",
    "X, = np.meshgrid(*edges)\n",
    "\n",
    "plt.plot(X, kmc[...,0])"
   ]
  },
  {
   "cell_type": "markdown",
   "metadata": {},
   "source": [
    "### 2d"
   ]
  },
  {
   "cell_type": "code",
   "execution_count": null,
   "metadata": {},
   "outputs": [],
   "source": [
    "timeseries = np.random.normal(loc=0, scale=1,size=[10_000_000,2])\n",
    "# timeseries = np.random.rand(1_000_000, 2)\n",
    "\n",
    "bins = np.array([200,200])\n",
    "\n",
    "powers = np.array([[0],[0]])\n",
    "# powers = np.array([[0,1,0,1,2,0,2,4,0,4,6,0,6,8,0], [0,0,1,1,0,2,2,0,4,4,0,6,6,0,8]])\n",
    "\n",
    "kmc, edges = kmc_kernel_estimator(\n",
    "    timeseries, kernel=epanechnikov, bw=1, bins=bins, powers=powers)"
   ]
  },
  {
   "cell_type": "code",
   "execution_count": null,
   "metadata": {},
   "outputs": [],
   "source": [
    "%matplotlib notebook\n",
    "\n",
    "fig = plt.figure()\n",
    "ax = Axes3D(fig)\n",
    "\n",
    "X, Y = np.meshgrid(*edges)\n",
    "\n",
    "ax.plot_surface(X, Y, kmc[...,0].T,\n",
    "                alpha=0.85, rstride=10, cstride=10, linewidth=2, \n",
    "                antialiased=True, color='white', zorder = .1)"
   ]
  },
  {
   "cell_type": "code",
   "execution_count": null,
   "metadata": {},
   "outputs": [],
   "source": []
  }
 ],
 "metadata": {
  "@webio": {
   "lastCommId": null,
   "lastKernelId": null
  },
  "kernelspec": {
   "display_name": "PyConda",
   "language": "python",
   "name": "pyconda"
  },
  "language_info": {
   "codemirror_mode": {
    "name": "ipython",
    "version": 3
   },
   "file_extension": ".py",
   "mimetype": "text/x-python",
   "name": "python",
   "nbconvert_exporter": "python",
   "pygments_lexer": "ipython3",
   "version": "3.7.1"
  }
 },
 "nbformat": 4,
 "nbformat_minor": 2
}
