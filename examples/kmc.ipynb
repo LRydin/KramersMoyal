{
 "cells": [
  {
   "cell_type": "code",
   "execution_count": null,
   "metadata": {},
   "outputs": [],
   "source": [
    "import numpy as np\n",
    "import matplotlib.pyplot as plt"
   ]
  },
  {
   "cell_type": "markdown",
   "metadata": {},
   "source": [
    "# A one dimensional Ornstein−Uhlenbeck process"
   ]
  },
  {
   "cell_type": "markdown",
   "metadata": {},
   "source": [
    "## Definition"
   ]
  },
  {
   "cell_type": "markdown",
   "metadata": {},
   "source": [
    "A simple Ornstein--Uhlenbeck process takes the form\n",
    "$$\\mathrm{d}y(t) = -\\theta y(t)\\mathrm{d}t + \\sigma \\mathrm{d}W(t), $$\n",
    "with $\\theta$ the drift term and $\\sigma$ diffusion term. The term $\\mathrm{d}W(t)$ comprises the Brownian motion"
   ]
  },
  {
   "cell_type": "markdown",
   "metadata": {},
   "source": [
    "## Integrating with an Euler−Maruyama scheme"
   ]
  },
  {
   "cell_type": "markdown",
   "metadata": {},
   "source": [
    "This is the equivalent of the simplest Euler integrator for stochastic processes. You can find more specifics on the Euler−Maruyama onwikipedia"
   ]
  },
  {
   "cell_type": "code",
   "execution_count": null,
   "metadata": {},
   "outputs": [],
   "source": [
    "# The drift and diffusion\n",
    "theta = 0.3\n",
    "sigma = 0.1\n",
    "\n",
    "# The total integration time\n",
    "t_start = 0\n",
    "t_final = 500\n",
    "\n",
    "# The desired timestep of integration\n",
    "delta_t = 0.001\n",
    "\n",
    "# time array of the process\n",
    "time = np.linspace(0, t_final, t_final * int(1 / delta_t))"
   ]
  },
  {
   "cell_type": "markdown",
   "metadata": {},
   "source": [
    "For the integration initialise an array $y$ and a normally distributed noise $\\mathrm{d}W(t)$"
   ]
  },
  {
   "cell_type": "code",
   "execution_count": null,
   "metadata": {},
   "outputs": [],
   "source": [
    "# Initialise the array y\n",
    "y = np.zeros([time.size])\n",
    "\n",
    "# Generate a Wiener process with a scale of np.sqrt(delta_t)\n",
    "dW = np.random.normal(loc = 0, scale = np.sqrt(delta_t), size = [time.size,1])\n",
    "# you can equivalently use np.sqrt(delta_t) * np.random.normal(loc=0, scale=1,size=[time.size,1])\n",
    "\n",
    "# Give some small random initial conditions\n",
    "y[0]=np.random.normal(size = 1) / 10\n",
    "\n",
    "# Integrate the process\n",
    "for i in range(1, time.size):\n",
    "    y[i] = y[i-1] - theta * y[i-1] * delta_t + sigma * dW[i] "
   ]
  },
  {
   "cell_type": "markdown",
   "metadata": {},
   "source": [
    "## Visualising the process"
   ]
  },
  {
   "cell_type": "code",
   "execution_count": null,
   "metadata": {},
   "outputs": [],
   "source": [
    "#This is the stochastic trajectory over time\n",
    "plt.plot(time, y , label = r'Trajectory of O–U process')\n",
    "\n",
    "plt.xlabel(r'time $t$')\n",
    "plt.ylabel(r'$y(t)$')\n",
    "plt.legend()"
   ]
  },
  {
   "cell_type": "markdown",
   "metadata": {},
   "source": [
    "## Obtaining the Kramers−Moyal coefficients"
   ]
  },
  {
   "cell_type": "markdown",
   "metadata": {},
   "source": [
    "We will now implement the KM package to calculate the Kramers−Moyal coefficients"
   ]
  },
  {
   "cell_type": "code",
   "execution_count": null,
   "metadata": {},
   "outputs": [],
   "source": [
    "# Import your (favourite) package to calculate Kramers−Moyal coefficients\n",
    "# You will need only km to perform the calculation\n",
    "from kramersmoyal import km"
   ]
  },
  {
   "cell_type": "code",
   "execution_count": null,
   "metadata": {},
   "outputs": [],
   "source": [
    "# Choose the size of your target space \n",
    "bins = np.array([5000])\n",
    "\n",
    "# Introduce the desired orders to calculate\n",
    "# Please keep the  [0]  term. It is the normalisation. \n",
    "powers = np.array([[0], [1], [2], [3], [4], [5], [6], [7], [8]])\n",
    "\n",
    "# Choose a desired bandwidth bw\n",
    "# this is similar to the inverse of number of bins\n",
    "bw = 0.1\n",
    "\n",
    "# Calculate the Kramers−Moyal coefficients\n",
    "kmc, edges = km(y, bw = bw, bins = bins, powers = powers)\n",
    "\n",
    "# The K−M coefficients are stacked along the fisrt dim of the\n",
    "# kmc array, so kmc[1,:] is the first K−M coefficient, kmc[2,:]\n",
    "# is the second, etc. etc."
   ]
  },
  {
   "cell_type": "markdown",
   "metadata": {},
   "source": [
    "## Visualising the Kramers−Moyal coefficients"
   ]
  },
  {
   "cell_type": "markdown",
   "metadata": {},
   "source": [
    "Lets now visualise the obtained Kramers−Moyal coefficients\n",
    "Firstly, let's plot the first Kramers−Moyal coefficients, i.e., the drift coefficient"
   ]
  },
  {
   "cell_type": "code",
   "execution_count": null,
   "metadata": {},
   "outputs": [],
   "source": [
    "# Lets restrict the plot to where we have good statistics\n",
    "plt.plot(edges[0][1500:-1500], kmc[1,1500:-1500], label = r'First K−M coefficient: drift')\n",
    "\n",
    "# And to guide the eye, here is the actual theoretical value,\n",
    "# which is an inclined line, with slope -theta*delta_t\n",
    "plt.plot(edges[0][1500:-1500], -edges[0][1500:-1500] * theta * delta_t, ':', label = r'Theory', color=r'black')\n",
    "\n",
    "plt.xlabel(r'$y(t)$')\n",
    "plt.ylabel(r'K−M coefficient')\n",
    "plt.legend()"
   ]
  },
  {
   "cell_type": "markdown",
   "metadata": {},
   "source": [
    "And now the second Kramers−Moyal coefficients, i.e., the diffusion coefficient"
   ]
  },
  {
   "cell_type": "code",
   "execution_count": null,
   "metadata": {},
   "outputs": [],
   "source": [
    "# Lets restrict the plot to where we have good statistics\n",
    "plt.plot(edges[0][1500:-1500], kmc[2,1500:-1500], label = r'Second K−M coefficient: diffusion')\n",
    "\n",
    "# And to guide the eye, here is the actual theoretical value,\n",
    "# which is a constant of value sigma**2 * delta_t /2\n",
    "plt.plot(edges[0][1500:-1500], np.ones(edges[0][1500:-1500].size) * sigma**2 * delta_t / 2, ':', label = r'Theory', color=r'black')\n",
    "\n",
    "plt.xlabel(r'$y(t)$')\n",
    "plt.ylabel(r'K−M coefficient')\n",
    "plt.ylim([sigma**2 * delta_t / 4, sigma**2 * delta_t])\n",
    "plt.legend()"
   ]
  },
  {
   "cell_type": "markdown",
   "metadata": {},
   "source": [
    "# A bivariate (two-dimensional) Jump-Diffusion process"
   ]
  },
  {
   "cell_type": "markdown",
   "metadata": {},
   "source": [
    "A more involved example is a bivariate Jump-Diffusion process, that takes the form\n",
    "$$\\begin{pmatrix}\n",
    "    \\mathrm{d}y_1(t) \\\\ \\mathrm{d}y_2(t)\n",
    "    \\end{pmatrix}=\n",
    "    \\begin{pmatrix}\n",
    "    N_1 \\\\ N_2\n",
    "    \\end{pmatrix}\n",
    "    \\mathrm{d} t +\n",
    "    \\begin{pmatrix}\n",
    "    g_{1,1} & g_{1,2} \\\\\n",
    "    g_{2,1} & g_{2,2}\n",
    "    \\end{pmatrix}\n",
    "    \\begin{pmatrix}\n",
    "    \\mathrm{d}W_1 \\\\ \\mathrm{d}W_2\n",
    "    \\end{pmatrix}+\n",
    "    \\begin{pmatrix}\n",
    "    \\xi_{1,1} & \\xi_{1,2} \\\\\n",
    "    \\xi_{2,1} & \\xi_{2,2}\n",
    "    \\end{pmatrix}\n",
    "    \\begin{pmatrix}\n",
    "    \\mathrm{d}J_1 \\\\ \\mathrm{d}J_2\n",
    "    \\end{pmatrix}\n",
    "$$\n",
    "with $(N_1, N_2)$ the drift vector, $g$ the diffusion matrix, and $\\xi$ the jump matrix. The term $(\\mathrm{d}W_1(t),\\mathrm{d}W_2(t))$ comprises the Brownian motions and $(\\mathrm{d}J_1, \\mathrm{d}J_2)$ comprises the Poisson jumps."
   ]
  },
  {
   "cell_type": "markdown",
   "metadata": {},
   "source": [
    "## Integrating with an Euler−Maruyama scheme"
   ]
  },
  {
   "cell_type": "code",
   "execution_count": null,
   "metadata": {},
   "outputs": [],
   "source": [
    "# Define first the drift vector N with some exemplary values\n",
    "N = np.array([1.0, 0.5])\n",
    "\n",
    "# Define the diffusion matrix g with some exemplary values\n",
    "g = np.array([[0.5, 0.2],[0.1, 1.0]])\n",
    "\n",
    "# and the jump amplitude matrix xi\n",
    "xi = np.array([[0.2, 0.5],[0.4, 0.5]])\n",
    "\n",
    "# lastly, the jump frequency lambda (l)\n",
    "l = np.array([0.1, 0.2])\n",
    "\n",
    "# The total integration time\n",
    "t_start = 0\n",
    "t_final = 500\n",
    "\n",
    "# The desired timestep of integration\n",
    "delta_t = 0.001\n",
    "\n",
    "# time array of the process\n",
    "time = np.linspace(0, t_final, t_final * int(1 / delta_t))"
   ]
  },
  {
   "cell_type": "markdown",
   "metadata": {},
   "source": [
    "Initialise an (n,2)-array $y$, (n,2)-normally distributed noise $\\mathrm{d}W_{1,2}(t)$, and (n,2)-Poisson processes $\\mathrm{d}J_{1,2}(t)$"
   ]
  },
  {
   "cell_type": "code",
   "execution_count": null,
   "metadata": {},
   "outputs": [],
   "source": [
    "# Initialise the array y\n",
    "y = np.zeros([time.size, 2])\n",
    "\n",
    "# Generate two Wiener processes with a scale of np.sqrt(delta_t)\n",
    "dW = np.random.normal(loc = 0, scale = np.sqrt(delta_t), size = [time.size, 2])\n",
    "\n",
    "# Generate two Poisson process with a delta_t scale\n",
    "dJ = np.zeros([ time.size, 2 ])\n",
    "dJ[:,0] = np.random.poisson(lam = l[0] * delta_t, size = time.size)\n",
    "dJ[:,1] = np.random.poisson(lam = l[1] * delta_t, size = time.size)\n",
    "\n",
    "# Give some small random initial conditions\n",
    "y[0,:]=np.random.normal(size = 2) / 10\n",
    "\n",
    "# Integrate the process, with a two step process\n",
    "for i in range(1, time.size):\n",
    "    y[i,0] = y[i-1,0]  -  N[0] * y[i-1,0] * delta_t  +  g[0,0] * dW[i,0] +  g[0,1] * dW[i,1]\n",
    "    y[i,1] = y[i-1,1]  -  N[1] * y[i-1,1] * delta_t  +  g[1,0] * dW[i,0] +  g[1,1] * dW[i,1]\n",
    "    \n",
    "    if dJ[i,0]>0 or dJ[i,1]:\n",
    "        # Generate here the normally distributed matrix xi of the jumps\n",
    "        s_00 = np.random.normal(loc = 0, scale = np.sqrt(xi[0,0]))\n",
    "        s_01 = np.random.normal(loc = 0, scale = np.sqrt(xi[0,1]))\n",
    "        s_10 = np.random.normal(loc = 0, scale = np.sqrt(xi[1,0]))\n",
    "        s_11 = np.random.normal(loc = 0, scale = np.sqrt(xi[1,1]))\n",
    "        \n",
    "        y[i,0] += s_00 * dJ[i,0]  +  s_01 * dJ[i,1]\n",
    "        y[i,1] += s_10 * dJ[i,0]  +  s_11 * dJ[i,1]"
   ]
  },
  {
   "cell_type": "markdown",
   "metadata": {},
   "source": [
    "Still in progress, now the Kramers−Moyal coefficients in two dimensions"
   ]
  }
 ],
 "metadata": {
  "@webio": {
   "lastCommId": null,
   "lastKernelId": null
  },
  "kernelspec": {
   "display_name": "Python 3",
   "language": "python",
   "name": "python3"
  },
  "language_info": {
   "codemirror_mode": {
    "name": "ipython",
    "version": 3
   },
   "file_extension": ".py",
   "mimetype": "text/x-python",
   "name": "python",
   "nbconvert_exporter": "python",
   "pygments_lexer": "ipython3",
   "version": "3.6.8"
  },
  "toc": {
   "base_numbering": 1,
   "nav_menu": {},
   "number_sections": true,
   "sideBar": true,
   "skip_h1_title": false,
   "title_cell": "Table of Contents",
   "title_sidebar": "Contents",
   "toc_cell": false,
   "toc_position": {},
   "toc_section_display": true,
   "toc_window_display": false
  },
  "varInspector": {
   "cols": {
    "lenName": 16,
    "lenType": 16,
    "lenVar": 40
   },
   "kernels_config": {
    "python": {
     "delete_cmd_postfix": "",
     "delete_cmd_prefix": "del ",
     "library": "var_list.py",
     "varRefreshCmd": "print(var_dic_list())"
    },
    "r": {
     "delete_cmd_postfix": ") ",
     "delete_cmd_prefix": "rm(",
     "library": "var_list.r",
     "varRefreshCmd": "cat(var_dic_list()) "
    }
   },
   "types_to_exclude": [
    "module",
    "function",
    "builtin_function_or_method",
    "instance",
    "_Feature"
   ],
   "window_display": false
  }
 },
 "nbformat": 4,
 "nbformat_minor": 2
}
